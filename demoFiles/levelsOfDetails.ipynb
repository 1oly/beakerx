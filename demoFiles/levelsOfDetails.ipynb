{
 "cells": [
  {
   "cell_type": "markdown",
   "metadata": {},
   "source": [
    "# Levels Of Detail\n",
    "\n",
    "Although the interactivity and high resolution you get from BeakerX’s charting library are great, creating DOM elements for every single data point is memory and CPU intensive. If implemented naively, your web browser would become sluggish or freeze if you tried to chart too much data. Fortunately, Beaker recognizes this situation and has a solution: Levels of Detail. If there are more than 1500 points, then instead of drawing them all, Beaker combines points into groups, and represents each group with its average, a box, or a river (min, max, and average).\n",
    "\n",
    "And then, as you zoom into the data, it is resampled as appropriate for the current view, so the closer you look, the more there is to see, but you can still pull out and get the big picture while keeping the frame rate high.\n",
    "\n",
    "Note that BeakerX’s Level of Detail feature can’t protect you if your dataset set itself is too large to fit in your web browser. In that case, you should use a plotting library that renders to a PNG image like matplotlib in Python, or do the resampling on the server manually."
   ]
  },
  {
   "cell_type": "code",
   "execution_count": null,
   "metadata": {
    "collapsed": true
   },
   "outputs": [],
   "source": [
    "// generate a random walk\n",
    "steps = 10000\n",
    "random = new Random()\n",
    "def walk(ssize) {\n",
    "  def cur = 0.0\n",
    "  def x = []\n",
    "  def y = []\n",
    "  for (i in 0..steps) {\n",
    "    y[i] = cur\n",
    "    x[i] = i\n",
    "    cur += random.nextGaussian() * ssize\n",
    "  }\n",
    "  return [x:x, y:y]\n",
    "}\n",
    "// now x is time for the x-axis, and y is the random variable\n",
    "beer = walk(10)\n",
    "whiskey = walk(100)"
   ]
  },
  {
   "cell_type": "code",
   "execution_count": null,
   "metadata": {
    "collapsed": true
   },
   "outputs": [],
   "source": [
    "p = new TimePlot(title: \"Drunken Sailor Walks\", showLegend: true, lodThreshold: 2000)\n",
    "p << new Line(x:beer.x, y:beer.y, displayName:\"Beer Walk\")\n",
    "p << new Line(x:whiskey.x, y:whiskey.y, displayName:\"Whiskey Walk\")"
   ]
  }
 ],
 "metadata": {
  "anaconda-cloud": {},
  "beakerx_kernel_parameters": {
   "classpath": [],
   "imports": [
    "com.twosigma.beakerx.easyform.EasyForm",
    "com.github.lwhite1.tablesaw.api.ml.regression.*",
    "static com.twosigma.beakerx.mimetype.MIMEContainer.VimeoVideo",
    "static com.twosigma.beakerx.mimetype.FileLinkContainer.FileLinks",
    "com.twosigma.beakerx.chart.Color",
    "com.github.lwhite1.tablesaw.api.*",
    "static com.twosigma.beakerx.mimetype.MIMEContainer.IFrame",
    "com.twosigma.beakerx.NamespaceClient",
    "com.twosigma.beakerx.jvm.object.OutputCell",
    "com.github.lwhite1.tablesaw.filtering.*",
    "static com.twosigma.beakerx.mimetype.MIMEContainer.HTML",
    "static com.twosigma.beakerx.mimetype.MIMEContainer.Javascript",
    "static com.twosigma.beakerx.mimetype.FileLinkContainer.FileLink",
    "static com.twosigma.beakerx.mimetype.MIMEContainer.ScribdDocument",
    "static com.twosigma.beakerx.mimetype.SVGContainer.SVG",
    "com.twosigma.beakerx.mimetype.MIMEContainer",
    "com.twosigma.beakerx.chart.histogram.*",
    "static com.github.lwhite1.tablesaw.api.QueryHelper.*",
    "com.twosigma.beakerx.chart.heatmap.HeatMap",
    "com.twosigma.beakerx.chart.xychart.*",
    "static com.twosigma.beakerx.mimetype.ImageContainer.Image",
    "com.github.lwhite1.tablesaw.api.ml.clustering.*",
    "com.twosigma.beakerx.chart.Filter",
    "static java.lang.Math.*",
    "static com.twosigma.beakerx.mimetype.MIMEContainer.YoutubeVideo",
    "static com.twosigma.beakerx.mimetype.MIMEContainer.Math",
    "com.twosigma.beakerx.fileloader.CsvPlotReader",
    "static com.twosigma.beakerx.mimetype.MIMEContainer.Markdown",
    "java.util.concurrent.TimeUnit",
    "com.twosigma.beakerx.chart.categoryplot.plotitem.*",
    "static com.twosigma.beakerx.mimetype.MIMEContainer.Video",
    "com.twosigma.beakerx.chart.categoryplot.*",
    "static com.twosigma.beakerx.mimetype.MIMEContainer.Latex",
    "com.twosigma.beakerx.chart.xychart.plotitem.*",
    "com.twosigma.beakerx.table.*",
    "com.twosigma.beakerx.chart.KeyboardCodes",
    "com.twosigma.beakerx.chart.GradientColor",
    "com.github.lwhite1.tablesaw.columns.*",
    "com.twosigma.beakerx.chart.legend.*",
    "com.github.lwhite1.tablesaw.reducing.*"
   ]
  },
  "kernelspec": {
   "display_name": "Groovy",
   "language": "groovy",
   "name": "groovy"
  },
  "language_info": {
   "codemirror_mode": "groovy",
   "file_extension": ".groovy",
   "mimetype": "",
   "name": "Groovy",
   "nbconverter_exporter": "",
   "version": "2.4.3"
  }
 },
 "nbformat": 4,
 "nbformat_minor": 1
}
