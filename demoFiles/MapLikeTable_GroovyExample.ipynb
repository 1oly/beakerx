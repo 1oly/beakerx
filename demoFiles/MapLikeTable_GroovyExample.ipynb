{
 "cells": [
  {
   "cell_type": "code",
   "execution_count": 1,
   "metadata": {
    "collapsed": true
   },
   "outputs": [],
   "source": [
    "[\"x\" : 1, \"y\" : 2]"
   ]
  },
  {
   "cell_type": "code",
   "execution_count": 2,
   "metadata": {
    "collapsed": true
   },
   "outputs": [],
   "source": [
    "List list = new ArrayList();\n",
    "list.add([\"x\" : 1, \"y\" : 2]);\n",
    "list.add([\"x\" : 3, \"y\" : 4]);\n",
    "list"
   ]
  },
  {
   "cell_type": "code",
   "execution_count": 4,
   "metadata": {
    "collapsed": true
   },
   "outputs": [],
   "source": [
    "Map[] map = new Map[2];\n",
    "map[0] = [\"x\" : 1, \"y\" : 2]\n",
    "map[1] = [\"x\" : 3, \"y\" : 4]\n",
    "map"
   ]
  },
  {
   "cell_type": "code",
   "execution_count": 6,
   "metadata": {
    "collapsed": true
   },
   "outputs": [],
   "source": [
    "def listOfMap = []\n",
    "1.upto(10){\n",
    "    listOfMap += [\"test\": it]\n",
    "}\n",
    "listOfMap"
   ]
  },
  {
   "cell_type": "code",
   "execution_count": null,
   "metadata": {
    "collapsed": true
   },
   "outputs": [],
   "source": []
  }
 ],
 "metadata": {
  "beakerx_kernel_parameters": {
   "classpath": [],
   "imports": [
    "com.twosigma.beaker.easyform.EasyForm",
    "com.github.lwhite1.tablesaw.api.ml.regression.*",
    "static com.twosigma.beaker.mimetype.MIMEContainer.VimeoVideo",
    "static com.twosigma.beaker.mimetype.FileLinkContainer.FileLinks",
    "com.twosigma.beaker.chart.Color",
    "com.github.lwhite1.tablesaw.api.*",
    "static com.twosigma.beaker.mimetype.MIMEContainer.IFrame",
    "com.twosigma.beaker.NamespaceClient",
    "com.twosigma.beaker.jvm.object.OutputCell",
    "com.github.lwhite1.tablesaw.filtering.*",
    "static com.twosigma.beaker.mimetype.MIMEContainer.HTML",
    "static com.twosigma.beaker.mimetype.MIMEContainer.Javascript",
    "static com.twosigma.beaker.mimetype.FileLinkContainer.FileLink",
    "static com.twosigma.beaker.mimetype.MIMEContainer.ScribdDocument",
    "static com.twosigma.beaker.mimetype.SVGContainer.SVG",
    "com.twosigma.beaker.BeakerProgressUpdate",
    "com.twosigma.beaker.mimetype.MIMEContainer",
    "com.twosigma.beaker.chart.histogram.*",
    "static com.github.lwhite1.tablesaw.api.QueryHelper.*",
    "com.twosigma.beaker.chart.heatmap.HeatMap",
    "com.twosigma.beaker.chart.xychart.*",
    "static com.twosigma.beaker.mimetype.ImageContainer.Image",
    "com.github.lwhite1.tablesaw.api.ml.clustering.*",
    "com.twosigma.beaker.chart.Filter",
    "static java.lang.Math.*",
    "static com.twosigma.beaker.mimetype.MIMEContainer.YoutubeVideo",
    "static com.twosigma.beaker.widgets.DisplayAnyWidget.display",
    "static com.twosigma.beaker.mimetype.MIMEContainer.Math",
    "com.twosigma.beaker.fileloader.CsvPlotReader",
    "static com.twosigma.beaker.mimetype.MIMEContainer.Markdown",
    "java.util.concurrent.TimeUnit",
    "com.twosigma.beaker.chart.categoryplot.plotitem.*",
    "static com.twosigma.beaker.mimetype.MIMEContainer.Video",
    "com.twosigma.beaker.chart.categoryplot.*",
    "static com.twosigma.beaker.mimetype.MIMEContainer.Latex",
    "com.twosigma.beaker.chart.xychart.plotitem.*",
    "com.twosigma.beaker.table.*",
    "com.twosigma.beaker.chart.KeyboardCodes",
    "com.twosigma.beaker.chart.GradientColor",
    "com.github.lwhite1.tablesaw.columns.*",
    "com.twosigma.beaker.chart.legend.*",
    "com.github.lwhite1.tablesaw.reducing.*"
   ]
  },
  "kernelspec": {
   "display_name": "Groovy",
   "language": "groovy",
   "name": "groovy"
  },
  "language_info": {
   "codemirror_mode": "groovy",
   "file_extension": ".groovy",
   "mimetype": "",
   "name": "Groovy",
   "nbconverter_exporter": "",
   "version": "2.4.3"
  }
 },
 "nbformat": 4,
 "nbformat_minor": 2
}
