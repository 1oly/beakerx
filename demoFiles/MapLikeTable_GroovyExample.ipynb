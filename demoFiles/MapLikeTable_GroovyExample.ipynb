{
 "cells": [
  {
   "cell_type": "code",
   "execution_count": null,
   "metadata": {},
   "outputs": [],
   "source": [
    "[\"x\" : 1, \"y\" : 2]"
   ]
  },
  {
   "cell_type": "code",
   "execution_count": null,
   "metadata": {
    "collapsed": true
   },
   "outputs": [],
   "source": [
    "List list = new ArrayList();\n",
    "list.add([\"x\" : 1, \"y\" : 2]);\n",
    "list.add([\"x\" : 3, \"y\" : 4]);\n",
    "list"
   ]
  },
  {
   "cell_type": "code",
   "execution_count": null,
   "metadata": {
    "collapsed": true
   },
   "outputs": [],
   "source": [
    "Map[] map = new Map[2];\n",
    "map[0] = [\"x\" : 1, \"y\" : 2]\n",
    "map[1] = [\"x\" : 3, \"y\" : 4]\n",
    "map"
   ]
  },
  {
   "cell_type": "code",
   "execution_count": null,
   "metadata": {
    "collapsed": true
   },
   "outputs": [],
   "source": [
    "def listOfMap = []\n",
    "1.upto(10){\n",
    "    listOfMap += [\"test\": it]\n",
    "}\n",
    "listOfMap"
   ]
  },
  {
   "cell_type": "code",
   "execution_count": null,
   "metadata": {
    "collapsed": true
   },
   "outputs": [],
   "source": [
    "def myMap = [:]\n",
    "def myList = []\n",
    "myList << [1, 2, 3]\n",
    "myList << [2, 3, 4]\n",
    "myMap.put(1, myList)\n",
    "myMap"
   ]
  },
  {
   "cell_type": "code",
   "execution_count": null,
   "metadata": {
    "collapsed": true
   },
   "outputs": [],
   "source": [
    "def myMap = [:]\n",
    "def myList = [num1:1, num2:2]\n",
    "myMap.put(1, myList)\n",
    "myMap"
   ]
  }
 ],
 "metadata": {
  "beakerx_kernel_parameters": {
   "classpath": [],
   "imports": [
    "com.twosigma.beakerx.easyform.EasyForm",
    "com.github.lwhite1.tablesaw.api.ml.regression.*",
    "static com.twosigma.beakerx.mimetype.MIMEContainer.VimeoVideo",
    "static com.twosigma.beakerx.mimetype.FileLinkContainer.FileLinks",
    "com.twosigma.beakerx.chart.Color",
    "com.github.lwhite1.tablesaw.api.*",
    "static com.twosigma.beakerx.mimetype.MIMEContainer.IFrame",
    "com.twosigma.beakerx.NamespaceClient",
    "com.twosigma.beakerx.jvm.object.OutputCell",
    "com.github.lwhite1.tablesaw.filtering.*",
    "static com.twosigma.beakerx.mimetype.MIMEContainer.HTML",
    "static com.twosigma.beakerx.mimetype.MIMEContainer.Javascript",
    "static com.twosigma.beakerx.mimetype.FileLinkContainer.FileLink",
    "static com.twosigma.beakerx.mimetype.MIMEContainer.ScribdDocument",
    "static com.twosigma.beakerx.mimetype.SVGContainer.SVG",
    "com.twosigma.beakerx.mimetype.MIMEContainer",
    "com.twosigma.beakerx.chart.histogram.*",
    "static com.github.lwhite1.tablesaw.api.QueryHelper.*",
    "com.twosigma.beakerx.chart.heatmap.HeatMap",
    "com.twosigma.beakerx.chart.xychart.*",
    "static com.twosigma.beakerx.mimetype.ImageContainer.Image",
    "com.github.lwhite1.tablesaw.api.ml.clustering.*",
    "com.twosigma.beakerx.chart.Filter",
    "static java.lang.Math.*",
    "static com.twosigma.beakerx.mimetype.MIMEContainer.YoutubeVideo",
    "static com.twosigma.beakerx.mimetype.MIMEContainer.Math",
    "com.twosigma.beakerx.fileloader.CsvPlotReader",
    "static com.twosigma.beakerx.mimetype.MIMEContainer.Markdown",
    "java.util.concurrent.TimeUnit",
    "com.twosigma.beakerx.chart.categoryplot.plotitem.*",
    "static com.twosigma.beakerx.mimetype.MIMEContainer.Video",
    "com.twosigma.beakerx.chart.categoryplot.*",
    "static com.twosigma.beakerx.mimetype.MIMEContainer.Latex",
    "com.twosigma.beakerx.chart.xychart.plotitem.*",
    "com.twosigma.beakerx.table.*",
    "com.twosigma.beakerx.chart.KeyboardCodes",
    "com.twosigma.beakerx.chart.GradientColor",
    "com.github.lwhite1.tablesaw.columns.*",
    "com.twosigma.beakerx.chart.legend.*",
    "com.github.lwhite1.tablesaw.reducing.*"
   ]
  },
  "kernelspec": {
   "display_name": "Groovy",
   "language": "groovy",
   "name": "groovy"
  },
  "language_info": {
   "codemirror_mode": "groovy",
   "file_extension": ".groovy",
   "mimetype": "",
   "name": "Groovy",
   "nbconverter_exporter": "",
   "version": "2.4.3"
  }
 },
 "nbformat": 4,
 "nbformat_minor": 2
}
