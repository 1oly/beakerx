{
 "cells": [
  {
   "cell_type": "markdown",
   "metadata": {
    "deletable": true,
    "editable": true
   },
   "source": [
    "# Parent Header Test\n",
    "Run all the cells and confirm the widgets are in order"
   ]
  },
  {
   "cell_type": "code",
   "execution_count": null,
   "metadata": {
    "collapsed": true,
    "deletable": true,
    "editable": true
   },
   "outputs": [],
   "source": [
    "import com.twosigma.beakerx.widgets.integers.IntProgress\n",
    "bar = new IntProgress()\n",
    "bar.max = 300\n",
    "bar.value = 10\n",
    "bar"
   ]
  },
  {
   "cell_type": "code",
   "execution_count": null,
   "metadata": {
    "collapsed": true,
    "deletable": true,
    "editable": true
   },
   "outputs": [],
   "source": [
    "import com.twosigma.beakerx.widgets.integers.IntProgress\n",
    "\n",
    "bar = new IntProgress()\n",
    "bar.max = 300\n",
    "bar.value = 20\n",
    "bar"
   ]
  },
  {
   "cell_type": "code",
   "execution_count": null,
   "metadata": {
    "collapsed": true,
    "deletable": true,
    "editable": true
   },
   "outputs": [],
   "source": [
    "import com.twosigma.beakerx.widgets.integers.IntProgress\n",
    "\n",
    "bar = new IntProgress()\n",
    "bar.max = 300\n",
    "bar.value = 30\n",
    "bar"
   ]
  },
  {
   "cell_type": "code",
   "execution_count": null,
   "metadata": {
    "collapsed": true,
    "deletable": true,
    "editable": true
   },
   "outputs": [],
   "source": [
    "import com.twosigma.beakerx.widgets.integers.IntProgress\n",
    "\n",
    "bar = new IntProgress()\n",
    "bar.max = 300\n",
    "bar.value = 40\n",
    "bar"
   ]
  },
  {
   "cell_type": "code",
   "execution_count": null,
   "metadata": {
    "collapsed": true,
    "deletable": true,
    "editable": true
   },
   "outputs": [],
   "source": [
    "import com.twosigma.beakerx.widgets.integers.IntProgress\n",
    "\n",
    "bar = new IntProgress()\n",
    "bar.max = 300\n",
    "bar.value = 50\n",
    "bar"
   ]
  },
  {
   "cell_type": "code",
   "execution_count": null,
   "metadata": {
    "collapsed": true,
    "deletable": true,
    "editable": true
   },
   "outputs": [],
   "source": [
    "import com.twosigma.beakerx.widgets.integers.IntProgress\n",
    "\n",
    "bar = new IntProgress()\n",
    "bar.max = 300\n",
    "bar.value = 60\n",
    "bar"
   ]
  },
  {
   "cell_type": "code",
   "execution_count": null,
   "metadata": {
    "collapsed": true,
    "deletable": true,
    "editable": true
   },
   "outputs": [],
   "source": [
    "import com.twosigma.beakerx.widgets.integers.IntProgress\n",
    "\n",
    "bar = new IntProgress()\n",
    "bar.max = 300\n",
    "bar.value = 70\n",
    "bar"
   ]
  },
  {
   "cell_type": "code",
   "execution_count": null,
   "metadata": {
    "collapsed": true,
    "deletable": true,
    "editable": true
   },
   "outputs": [],
   "source": [
    "import com.twosigma.beakerx.widgets.integers.IntProgress\n",
    "\n",
    "bar = new IntProgress()\n",
    "bar.max = 300\n",
    "bar.value = 80\n",
    "bar"
   ]
  },
  {
   "cell_type": "code",
   "execution_count": null,
   "metadata": {
    "collapsed": true,
    "deletable": true,
    "editable": true
   },
   "outputs": [],
   "source": [
    "import com.twosigma.beakerx.widgets.integers.IntProgress\n",
    "\n",
    "bar = new IntProgress()\n",
    "bar.max = 300\n",
    "bar.value = 90\n",
    "bar"
   ]
  },
  {
   "cell_type": "code",
   "execution_count": null,
   "metadata": {
    "collapsed": true,
    "deletable": true,
    "editable": true
   },
   "outputs": [],
   "source": [
    "import com.twosigma.beakerx.widgets.integers.IntProgress\n",
    "\n",
    "bar = new IntProgress()\n",
    "bar.max = 300\n",
    "bar.value = 100\n",
    "bar"
   ]
  },
  {
   "cell_type": "code",
   "execution_count": null,
   "metadata": {
    "collapsed": true,
    "deletable": true,
    "editable": true
   },
   "outputs": [],
   "source": [
    "import com.twosigma.beakerx.widgets.integers.IntProgress\n",
    "\n",
    "bar = new IntProgress()\n",
    "bar.max = 300\n",
    "bar.value = 110\n",
    "bar"
   ]
  },
  {
   "cell_type": "code",
   "execution_count": null,
   "metadata": {
    "collapsed": true,
    "deletable": true,
    "editable": true
   },
   "outputs": [],
   "source": [
    "import com.twosigma.beakerx.widgets.integers.IntProgress\n",
    "\n",
    "bar = new IntProgress()\n",
    "bar.max = 300\n",
    "bar.value = 120\n",
    "bar"
   ]
  },
  {
   "cell_type": "code",
   "execution_count": null,
   "metadata": {
    "collapsed": true,
    "deletable": true,
    "editable": true
   },
   "outputs": [],
   "source": [
    "import com.twosigma.beakerx.widgets.integers.IntProgress\n",
    "\n",
    "bar = new IntProgress()\n",
    "bar.max = 300\n",
    "bar.value = 130\n",
    "bar"
   ]
  },
  {
   "cell_type": "code",
   "execution_count": null,
   "metadata": {
    "collapsed": true,
    "deletable": true,
    "editable": true
   },
   "outputs": [],
   "source": [
    "import com.twosigma.beakerx.widgets.integers.IntProgress\n",
    "\n",
    "bar = new IntProgress()\n",
    "bar.max = 300\n",
    "bar.value = 140\n",
    "bar"
   ]
  },
  {
   "cell_type": "code",
   "execution_count": null,
   "metadata": {
    "collapsed": true,
    "deletable": true,
    "editable": true
   },
   "outputs": [],
   "source": [
    "import com.twosigma.beakerx.widgets.integers.IntProgress\n",
    "\n",
    "bar = new IntProgress()\n",
    "bar.max = 300\n",
    "bar.value = 150\n",
    "bar"
   ]
  },
  {
   "cell_type": "code",
   "execution_count": null,
   "metadata": {
    "collapsed": true,
    "deletable": true,
    "editable": true
   },
   "outputs": [],
   "source": [
    "import com.twosigma.beakerx.widgets.integers.IntProgress\n",
    "\n",
    "bar = new IntProgress()\n",
    "bar.max = 300\n",
    "bar.value = 160\n",
    "bar"
   ]
  },
  {
   "cell_type": "code",
   "execution_count": null,
   "metadata": {
    "collapsed": true,
    "deletable": true,
    "editable": true
   },
   "outputs": [],
   "source": [
    "import com.twosigma.beakerx.widgets.integers.IntProgress\n",
    "\n",
    "bar = new IntProgress()\n",
    "bar.max = 300\n",
    "bar.value = 170\n",
    "bar"
   ]
  },
  {
   "cell_type": "code",
   "execution_count": null,
   "metadata": {
    "collapsed": true,
    "deletable": true,
    "editable": true
   },
   "outputs": [],
   "source": [
    "import com.twosigma.beakerx.widgets.integers.IntProgress\n",
    "\n",
    "bar = new IntProgress()\n",
    "bar.max = 300\n",
    "bar.value = 180\n",
    "bar"
   ]
  },
  {
   "cell_type": "code",
   "execution_count": null,
   "metadata": {
    "collapsed": true,
    "deletable": true,
    "editable": true
   },
   "outputs": [],
   "source": [
    "import com.twosigma.beakerx.widgets.integers.IntProgress\n",
    "\n",
    "bar = new IntProgress()\n",
    "bar.max = 300\n",
    "bar.value = 190\n",
    "bar"
   ]
  },
  {
   "cell_type": "code",
   "execution_count": null,
   "metadata": {
    "collapsed": true,
    "deletable": true,
    "editable": true
   },
   "outputs": [],
   "source": [
    "import com.twosigma.beakerx.widgets.integers.IntProgress\n",
    "\n",
    "bar = new IntProgress()\n",
    "bar.max = 300\n",
    "bar.value = 200\n",
    "bar"
   ]
  },
  {
   "cell_type": "code",
   "execution_count": null,
   "metadata": {
    "collapsed": true,
    "deletable": true,
    "editable": true
   },
   "outputs": [],
   "source": [
    "import com.twosigma.beakerx.widgets.integers.IntProgress\n",
    "\n",
    "bar = new IntProgress()\n",
    "bar.max = 300\n",
    "bar.value = 210\n",
    "bar"
   ]
  },
  {
   "cell_type": "code",
   "execution_count": null,
   "metadata": {
    "collapsed": true,
    "deletable": true,
    "editable": true
   },
   "outputs": [],
   "source": [
    "import com.twosigma.beakerx.widgets.integers.IntProgress\n",
    "\n",
    "bar = new IntProgress()\n",
    "bar.max = 300\n",
    "bar.value = 220\n",
    "bar"
   ]
  },
  {
   "cell_type": "code",
   "execution_count": null,
   "metadata": {
    "collapsed": true,
    "deletable": true,
    "editable": true
   },
   "outputs": [],
   "source": [
    "import com.twosigma.beakerx.widgets.integers.IntProgress\n",
    "\n",
    "bar = new IntProgress()\n",
    "bar.max = 300\n",
    "bar.value = 230\n",
    "bar"
   ]
  },
  {
   "cell_type": "code",
   "execution_count": null,
   "metadata": {
    "collapsed": true,
    "deletable": true,
    "editable": true
   },
   "outputs": [],
   "source": [
    "import com.twosigma.beakerx.widgets.integers.IntProgress\n",
    "\n",
    "bar = new IntProgress()\n",
    "bar.max = 300\n",
    "bar.value = 240\n",
    "bar"
   ]
  },
  {
   "cell_type": "code",
   "execution_count": null,
   "metadata": {
    "collapsed": true,
    "deletable": true,
    "editable": true
   },
   "outputs": [],
   "source": [
    "import com.twosigma.beakerx.widgets.integers.IntProgress\n",
    "\n",
    "bar = new IntProgress()\n",
    "bar.max = 300\n",
    "bar.value = 250\n",
    "bar"
   ]
  },
  {
   "cell_type": "code",
   "execution_count": null,
   "metadata": {
    "collapsed": true,
    "deletable": true,
    "editable": true
   },
   "outputs": [],
   "source": [
    "import com.twosigma.beakerx.widgets.integers.IntProgress\n",
    "\n",
    "bar = new IntProgress()\n",
    "bar.max = 300\n",
    "bar.value = 260\n",
    "bar"
   ]
  },
  {
   "cell_type": "code",
   "execution_count": null,
   "metadata": {
    "collapsed": true,
    "deletable": true,
    "editable": true
   },
   "outputs": [],
   "source": [
    "import com.twosigma.beakerx.widgets.integers.IntProgress\n",
    "\n",
    "bar = new IntProgress()\n",
    "bar.max = 300\n",
    "bar.value = 270\n",
    "bar"
   ]
  },
  {
   "cell_type": "code",
   "execution_count": null,
   "metadata": {
    "collapsed": true,
    "deletable": true,
    "editable": true
   },
   "outputs": [],
   "source": [
    "import com.twosigma.beakerx.widgets.integers.IntProgress\n",
    "\n",
    "bar = new IntProgress()\n",
    "bar.max = 300\n",
    "bar.value = 280\n",
    "bar"
   ]
  },
  {
   "cell_type": "code",
   "execution_count": null,
   "metadata": {
    "collapsed": true,
    "deletable": true,
    "editable": true
   },
   "outputs": [],
   "source": [
    "import com.twosigma.beakerx.widgets.integers.IntProgress\n",
    "\n",
    "bar = new IntProgress()\n",
    "bar.max = 300\n",
    "bar.value = 290\n",
    "bar"
   ]
  },
  {
   "cell_type": "code",
   "execution_count": null,
   "metadata": {
    "collapsed": true,
    "deletable": true,
    "editable": true
   },
   "outputs": [],
   "source": [
    "import com.twosigma.beakerx.widgets.integers.IntProgress\n",
    "\n",
    "bar = new IntProgress()\n",
    "bar.max = 300\n",
    "bar.value = 300\n",
    "bar"
   ]
  }
 ],
 "metadata": {
  "anaconda-cloud": {},
  "beakerx_kernel_parameters": {
   "classpath": [],
   "imports": [
    "com.twosigma.beakerx.easyform.EasyForm",
    "com.github.lwhite1.tablesaw.api.ml.regression.*",
    "static com.twosigma.beakerx.mimetype.MIMEContainer.VimeoVideo",
    "static com.twosigma.beakerx.mimetype.FileLinkContainer.FileLinks",
    "com.twosigma.beakerx.chart.Color",
    "com.github.lwhite1.tablesaw.api.*",
    "static com.twosigma.beakerx.mimetype.MIMEContainer.IFrame",
    "com.twosigma.beakerx.NamespaceClient",
    "com.twosigma.beakerx.jvm.object.OutputCell",
    "com.github.lwhite1.tablesaw.filtering.*",
    "static com.twosigma.beakerx.mimetype.MIMEContainer.HTML",
    "static com.twosigma.beakerx.mimetype.MIMEContainer.Javascript",
    "static com.twosigma.beakerx.mimetype.FileLinkContainer.FileLink",
    "static com.twosigma.beakerx.mimetype.MIMEContainer.ScribdDocument",
    "static com.twosigma.beakerx.mimetype.SVGContainer.SVG",
    "com.twosigma.beakerx.mimetype.MIMEContainer",
    "com.twosigma.beakerx.chart.histogram.*",
    "static com.github.lwhite1.tablesaw.api.QueryHelper.*",
    "com.twosigma.beakerx.chart.heatmap.HeatMap",
    "com.twosigma.beakerx.chart.xychart.*",
    "static com.twosigma.beakerx.mimetype.ImageContainer.Image",
    "com.github.lwhite1.tablesaw.api.ml.clustering.*",
    "com.twosigma.beakerx.chart.Filter",
    "static java.lang.Math.*",
    "static com.twosigma.beakerx.mimetype.MIMEContainer.YoutubeVideo",
    "static com.twosigma.beakerx.mimetype.MIMEContainer.Math",
    "com.twosigma.beakerx.fileloader.CsvPlotReader",
    "static com.twosigma.beakerx.mimetype.MIMEContainer.Markdown",
    "java.util.concurrent.TimeUnit",
    "com.twosigma.beakerx.chart.categoryplot.plotitem.*",
    "static com.twosigma.beakerx.mimetype.MIMEContainer.Video",
    "com.twosigma.beakerx.chart.categoryplot.*",
    "static com.twosigma.beakerx.mimetype.MIMEContainer.Latex",
    "com.twosigma.beakerx.chart.xychart.plotitem.*",
    "com.twosigma.beakerx.table.*",
    "com.twosigma.beakerx.chart.KeyboardCodes",
    "com.twosigma.beakerx.chart.GradientColor",
    "com.github.lwhite1.tablesaw.columns.*",
    "com.twosigma.beakerx.chart.legend.*",
    "com.github.lwhite1.tablesaw.reducing.*"
   ]
  },
  "kernelspec": {
   "display_name": "Groovy",
   "language": "groovy",
   "name": "groovy"
  },
  "language_info": {
   "codemirror_mode": "groovy",
   "file_extension": ".groovy",
   "mimetype": "",
   "name": "Groovy",
   "nbconverter_exporter": "",
   "version": "2.4.3"
  }
 },
 "nbformat": 4,
 "nbformat_minor": 2
}
