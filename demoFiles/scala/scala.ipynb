{
 "cells": [
  {
   "cell_type": "markdown",
   "metadata": {},
   "source": [
    "# Scala"
   ]
  },
  {
   "cell_type": "code",
   "execution_count": 2,
   "metadata": {},
   "outputs": [
    {
     "data": {
      "text/plain": [
       "defined class Greeter\n"
      ]
     },
     "execution_count": 2,
     "metadata": {},
     "output_type": "execute_result"
    }
   ],
   "source": [
    "class Greeter(prefix: String, suffix: String) {\n",
    "  def greet(name: String): Unit =\n",
    "    println(prefix + name + suffix)\n",
    "}"
   ]
  },
  {
   "cell_type": "code",
   "execution_count": 3,
   "metadata": {},
   "outputs": [
    {
     "name": "stdout",
     "output_type": "stream",
     "text": [
      "Hello, Scala developer!\n"
     ]
    },
    {
     "data": {
      "text/plain": [
       "null"
      ]
     },
     "execution_count": 3,
     "metadata": {},
     "output_type": "execute_result"
    }
   ],
   "source": [
    "val greeter = new Greeter(\"Hello, \", \"!\")\n",
    "greeter.greet(\"Scala developer\") // Hello, Scala developer!"
   ]
  },
  {
   "cell_type": "code",
   "execution_count": 7,
   "metadata": {},
   "outputs": [],
   "source": [
    "new Plot()"
   ]
  }
 ],
 "metadata": {
  "beakerx_kernel_parameters": {
   "classpath": [],
   "imports": [
    "com.twosigma.beakerx.chart.xychart.*",
    "com.twosigma.beakerx.easyform.EasyForm",
    "com.twosigma.beakerx.chart.Filter",
    "com.twosigma.beakerx.chart.Color",
    "com.twosigma.beakerx.NamespaceClient",
    "com.twosigma.beakerx.fileloader.CsvPlotReader",
    "com.twosigma.beakerx.jvm.object.OutputCell",
    "com.twosigma.beakerx.chart.categoryplot.plotitem.*",
    "com.twosigma.beakerx.chart.categoryplot.*",
    "com.twosigma.beakerx.chart.xychart.plotitem.*",
    "com.twosigma.beakerx.table.*",
    "com.twosigma.beakerx.chart.GradientColor",
    "com.twosigma.beakerx.chart.legend.*",
    "com.twosigma.beakerx.chart.histogram.*",
    "com.twosigma.beakerx.chart.heatmap.HeatMap"
   ]
  },
  "kernelspec": {
   "display_name": "Scala",
   "language": "scala",
   "name": "scala"
  },
  "language_info": {
   "codemirror_mode": "text/x-scala",
   "file_extension": ".scala",
   "mimetype": "",
   "name": "Scala",
   "nbconverter_exporter": "",
   "version": "2.11.8"
  }
 },
 "nbformat": 4,
 "nbformat_minor": 0
}