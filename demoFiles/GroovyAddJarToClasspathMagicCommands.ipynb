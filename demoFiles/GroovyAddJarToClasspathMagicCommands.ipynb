{
 "cells": [
  {
   "cell_type": "code",
   "execution_count": 1,
   "metadata": {},
   "outputs": [
    {
     "ename": "org.codehaus.groovy.control.MultipleCompilationErrorsException",
     "evalue": " startup failed",
     "output_type": "error",
     "traceback": [
      "\u001b[0;31morg.codehaus.groovy.control.MultipleCompilationErrorsException: startup failed:",
      "\u001b[0;31mscript149788029108967175771.groovy: 1: unable to resolve class com.beakerx.BeakerxObject",
      "\u001b[0;31m @ line 1, column 1.",
      "\u001b[0;31m   import com.beakerx.BeakerxObject",
      "\u001b[0;31m   ^",
      "\u001b[0;31m",
      "\u001b[0;31m1 error",
      "\u001b[0;31m",
      "\u001b[0;31m\tat com.twosigma.beakerx.groovy.evaluator.GroovyEvaluator$workerThread$MyRunnable.run(GroovyEvaluator.java:449)"
     ]
    }
   ],
   "source": [
    "import com.beakerx.BeakerxObject"
   ]
  },
  {
   "cell_type": "code",
   "execution_count": 2,
   "metadata": {},
   "outputs": [
    {
     "data": {
      "text/plain": [
       "null"
      ]
     },
     "execution_count": 2,
     "metadata": {},
     "output_type": "execute_result"
    }
   ],
   "source": [
    "%classpath add jar demoResources/beakerxTestLibrary.jar"
   ]
  },
  {
   "cell_type": "code",
   "execution_count": 3,
   "metadata": {},
   "outputs": [
    {
     "data": {
      "text/plain": [
       "null"
      ]
     },
     "execution_count": 3,
     "metadata": {},
     "output_type": "execute_result"
    }
   ],
   "source": [
    "import com.beakerx.BeakerxObject"
   ]
  },
  {
   "cell_type": "code",
   "execution_count": 6,
   "metadata": {},
   "outputs": [
    {
     "name": "stdout",
     "output_type": "stream",
     "text": [
      "BeakerxObject_test_123\n"
     ]
    },
    {
     "data": {
      "text/plain": [
       "null"
      ]
     },
     "execution_count": 6,
     "metadata": {},
     "output_type": "execute_result"
    }
   ],
   "source": [
    "%classpath add jar demoResources/beakerxTestLibrary.jar\n",
    "import com.beakerx.BeakerxObject\n",
    "BeakerxObject beakerxObject = new BeakerxObject();\n",
    "println beakerxObject.getObjectTest()"
   ]
  },
  {
   "cell_type": "code",
   "execution_count": 4,
   "metadata": {},
   "outputs": [
    {
     "name": "stdout",
     "output_type": "stream",
     "text": [
      "BeakerxObject_static_test_123\n",
      "BeakerxObject_test_123\n",
      "static_123\n",
      "object_123\n"
     ]
    }
   ],
   "source": [
    "%classpath add jar demoResources/beakerxTestLibrary.jar\n",
    "%classpath add jar BeakerXClasspathTest.jar\n",
    "\n",
    "println com.beakerx.BeakerxObject.staticTest();\n",
    "\n",
    "import com.beakerx.BeakerxObject\n",
    "BeakerxObject beakerxObject = new BeakerxObject();\n",
    "println beakerxObject.getObjectTest()\n",
    "\n",
    "import com.beaker.BeakerXClasspathTest\n",
    "BeakerXClasspathTest t = new BeakerXClasspathTest();\n",
    "println com.beaker.BeakerXClasspathTest.staticTest;\n",
    "println t.getObjectTest();\n",
    "OutputCell.HIDDEN"
   ]
  },
  {
   "cell_type": "code",
   "execution_count": 5,
   "metadata": {},
   "outputs": [
    {
     "data": {
      "text/plain": [
       "demoResources/beakerxTestLibrary.jar\n",
       "BeakerXClasspathTest.jar"
      ]
     },
     "execution_count": 5,
     "metadata": {},
     "output_type": "execute_result"
    }
   ],
   "source": [
    "%classpath"
   ]
  },
  {
   "cell_type": "code",
   "execution_count": 4,
   "metadata": {
    "collapsed": true
   },
   "outputs": [],
   "source": [
    "%import com.twosigma.beakerx.widgets.integers.IntSlider\n",
    "w = new IntSlider()\n",
    "w.value = 60\n",
    "w"
   ]
  },
  {
   "cell_type": "code",
   "execution_count": 5,
   "metadata": {
    "collapsed": true
   },
   "outputs": [],
   "source": [
    "w2 = new IntSlider()"
   ]
  },
  {
   "cell_type": "code",
   "execution_count": 6,
   "metadata": {},
   "outputs": [
    {
     "data": {
      "text/plain": [
       "null"
      ]
     },
     "execution_count": 6,
     "metadata": {},
     "output_type": "execute_result"
    }
   ],
   "source": [
    "%unimport com.twosigma.beakerx.widgets.integers.IntSlider"
   ]
  },
  {
   "cell_type": "code",
   "execution_count": 9,
   "metadata": {},
   "outputs": [],
   "source": [
    "w3 = new IntSlider()"
   ]
  },
  {
   "cell_type": "code",
   "execution_count": null,
   "metadata": {
    "collapsed": true
   },
   "outputs": [],
   "source": []
  }
 ],
 "metadata": {
  "beakerx_kernel_parameters": {
   "classpath": [],
   "imports": [
    "com.twosigma.beakerx.easyform.EasyForm",
    "com.github.lwhite1.tablesaw.api.ml.regression.*",
    "static com.twosigma.beakerx.mimetype.MIMEContainer.VimeoVideo",
    "static com.twosigma.beakerx.mimetype.FileLinkContainer.FileLinks",
    "com.twosigma.beakerx.chart.Color",
    "com.github.lwhite1.tablesaw.api.*",
    "static com.twosigma.beakerx.mimetype.MIMEContainer.IFrame",
    "com.twosigma.beakerx.NamespaceClient",
    "com.twosigma.beakerx.chart.treemap.*",
    "com.twosigma.beakerx.jvm.object.OutputCell",
    "com.twosigma.beakerx.chart.treemap.util.*",
    "com.github.lwhite1.tablesaw.filtering.*",
    "static com.twosigma.beakerx.mimetype.MIMEContainer.HTML",
    "static com.twosigma.beakerx.mimetype.MIMEContainer.Javascript",
    "static com.twosigma.beakerx.mimetype.FileLinkContainer.FileLink",
    "static com.twosigma.beakerx.mimetype.MIMEContainer.ScribdDocument",
    "static com.twosigma.beakerx.mimetype.SVGContainer.SVG",
    "com.twosigma.beakerx.mimetype.MIMEContainer",
    "net.sf.jtreemap.swing.*",
    "com.twosigma.beakerx.chart.histogram.*",
    "static com.github.lwhite1.tablesaw.api.QueryHelper.*",
    "com.twosigma.beakerx.chart.heatmap.HeatMap",
    "com.twosigma.beakerx.chart.xychart.*",
    "static com.twosigma.beakerx.mimetype.ImageContainer.Image",
    "com.github.lwhite1.tablesaw.api.ml.clustering.*",
    "com.twosigma.beakerx.chart.Filter",
    "static java.lang.Math.*",
    "static com.twosigma.beakerx.mimetype.MIMEContainer.YoutubeVideo",
    "static com.twosigma.beakerx.mimetype.MIMEContainer.Math",
    "com.twosigma.beakerx.fileloader.CsvPlotReader",
    "static com.twosigma.beakerx.mimetype.MIMEContainer.Markdown",
    "java.util.concurrent.TimeUnit",
    "com.twosigma.beakerx.chart.categoryplot.plotitem.*",
    "static com.twosigma.beakerx.mimetype.MIMEContainer.Video",
    "com.twosigma.beakerx.chart.categoryplot.*",
    "static com.twosigma.beakerx.mimetype.MIMEContainer.Latex",
    "com.twosigma.beakerx.chart.xychart.plotitem.*",
    "com.twosigma.beakerx.table.*",
    "com.twosigma.beakerx.chart.KeyboardCodes",
    "com.twosigma.beakerx.chart.GradientColor",
    "com.github.lwhite1.tablesaw.columns.*",
    "com.twosigma.beakerx.chart.legend.*",
    "com.github.lwhite1.tablesaw.reducing.*"
   ]
  },
  "kernelspec": {
   "display_name": "Groovy",
   "language": "groovy",
   "name": "groovy"
  },
  "language_info": {
   "codemirror_mode": "groovy",
   "file_extension": ".groovy",
   "mimetype": "",
   "name": "Groovy",
   "nbconverter_exporter": "",
   "version": "2.4.3"
  }
 },
 "nbformat": 4,
 "nbformat_minor": 1
}
