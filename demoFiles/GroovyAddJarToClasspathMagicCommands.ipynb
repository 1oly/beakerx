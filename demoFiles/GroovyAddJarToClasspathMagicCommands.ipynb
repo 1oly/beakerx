{
 "cells": [
  {
   "cell_type": "code",
   "execution_count": 1,
   "metadata": {},
   "outputs": [
    {
     "ename": "org.codehaus.groovy.control.MultipleCompilationErrorsException",
     "evalue": " startup failed",
     "traceback": [
      "\u001b[0;31morg.codehaus.groovy.control.MultipleCompilationErrorsException: startup failed:",
      "\u001b[0;31mscript149788029108967175771.groovy: 1: unable to resolve class com.beakerx.BeakerxObject",
      "\u001b[0;31m @ line 1, column 1.",
      "\u001b[0;31m   import com.beakerx.BeakerxObject",
      "\u001b[0;31m   ^",
      "\u001b[0;31m",
      "\u001b[0;31m1 error",
      "\u001b[0;31m",
      "\u001b[0;31m\tat com.twosigma.beakerx.groovy.evaluator.GroovyEvaluator$workerThread$MyRunnable.run(GroovyEvaluator.java:449)"
     ],
     "output_type": "error"
    }
   ],
   "source": [
    "import com.beakerx.BeakerxObject"
   ]
  },
  {
   "cell_type": "code",
   "execution_count": 2,
   "metadata": {},
   "outputs": [
    {
     "data": {
      "text/plain": [
       "null"
      ]
     },
     "execution_count": 2,
     "metadata": {},
     "output_type": "execute_result"
    }
   ],
   "source": [
    "%classpath add jar demoResources/beakerxTestLibrary.jar"
   ]
  },
  {
   "cell_type": "code",
   "execution_count": 3,
   "metadata": {},
   "outputs": [
    {
     "data": {
      "text/plain": [
       "null"
      ]
     },
     "execution_count": 3,
     "metadata": {},
     "output_type": "execute_result"
    }
   ],
   "source": [
    "import com.beakerx.BeakerxObject"
   ]
  },
  {
   "cell_type": "code",
   "execution_count": 6,
   "metadata": {},
   "outputs": [
    {
     "name": "stdout",
     "output_type": "stream",
     "text": [
      "BeakerxObject_test_123\n"
     ]
    },
    {
     "data": {
      "text/plain": [
       "null"
      ]
     },
     "execution_count": 6,
     "metadata": {},
     "output_type": "execute_result"
    }
   ],
   "source": [
    "%classpath add jar demoResources/beakerxTestLibrary.jar\n",
    "import com.beakerx.BeakerxObject\n",
    "BeakerxObject beakerxObject = new BeakerxObject();\n",
    "println beakerxObject.getObjectTest()"
   ]
  },
  {
   "cell_type": "code",
   "execution_count": 4,
   "metadata": {},
   "outputs": [
    {
     "name": "stdout",
     "output_type": "stream",
     "text": [
      "BeakerxObject_static_test_123\n",
      "BeakerxObject_test_123\n",
      "static_123\n",
      "object_123\n"
     ]
    }
   ],
   "source": [
    "%classpath add jar demoResources/beakerxTestLibrary.jar\n",
    "%classpath add jar BeakerXClasspathTest.jar\n",
    "\n",
    "println com.beakerx.BeakerxObject.staticTest();\n",
    "\n",
    "import com.beakerx.BeakerxObject\n",
    "BeakerxObject beakerxObject = new BeakerxObject();\n",
    "println beakerxObject.getObjectTest()\n",
    "\n",
    "import com.beaker.BeakerXClasspathTest\n",
    "BeakerXClasspathTest t = new BeakerXClasspathTest();\n",
    "println com.beaker.BeakerXClasspathTest.staticTest;\n",
    "println t.getObjectTest();\n",
    "OutputCell.HIDDEN"
   ]
  },
  {
   "cell_type": "code",
   "execution_count": 5,
   "metadata": {},
   "outputs": [
    {
     "data": {
      "text/plain": [
       "demoResources/beakerxTestLibrary.jar\n",
       "BeakerXClasspathTest.jar"
      ]
     },
     "execution_count": 5,
     "metadata": {},
     "output_type": "execute_result"
    }
   ],
   "source": [
    "%classpath"
   ]
  },
  {
   "cell_type": "code",
   "execution_count": 4,
   "metadata": {
    "collapsed": true
   },
   "outputs": [],
   "source": [
    "%import com.twosigma.beakerx.widgets.integers.IntSlider\n",
    "w = new IntSlider()\n",
    "w.value = 60\n",
    "w"
   ]
  },
  {
   "cell_type": "code",
   "execution_count": 5,
   "metadata": {
    "collapsed": true
   },
   "outputs": [],
   "source": [
    "w2 = new IntSlider()"
   ]
  },
  {
   "cell_type": "code",
   "execution_count": 6,
   "metadata": {},
   "outputs": [
    {
     "data": {
      "text/plain": [
       "null"
      ]
     },
     "execution_count": 6,
     "metadata": {},
     "output_type": "execute_result"
    }
   ],
   "source": [
    "%unimport com.twosigma.beakerx.widgets.integers.IntSlider"
   ]
  },
  {
   "cell_type": "code",
   "execution_count": 9,
   "metadata": {},
   "outputs": [],
   "source": [
    "w3 = new IntSlider()"
   ]
  },
  {
   "cell_type": "code",
   "execution_count": null,
   "metadata": {
    "collapsed": true
   },
   "outputs": [],
   "source": [
    ""
   ]
  }
 ],
 "metadata": {
  "beakerx_kernel_parameters": {},
  "kernelspec": {
   "display_name": "Groovy",
   "language": "groovy",
   "name": "groovy"
  },
  "language_info": {
   "codemirror_mode": "groovy",
   "file_extension": ".groovy",
   "mimetype": "",
   "name": "Groovy",
   "nbconverter_exporter": "",
   "version": "2.4.3"
  }
 },
 "nbformat": 4,
 "nbformat_minor": 0
}