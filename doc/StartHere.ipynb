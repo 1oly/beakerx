{
 "cells": [
  {
   "cell_type": "markdown",
   "metadata": {},
   "source": [
    "# Tutorials, Examples, and Demos"
   ]
  },
  {
   "cell_type": "markdown",
   "metadata": {},
   "source": [
    "[Jupyter](http://jupyter.org/) and [BeakerX](https://github.com/twosigma/beakerx) are based on the idea of the lab notebook, brought to life in your web browser. Each notebook is a place for recording the written ideas, data, images, spreadsheets, diagrams, equations, and especially code, that one produces in the course of research. You can analyze, visualize, and document data and science, using multiple programming languages.  BeakerX is an extension of Jupyter, including kernels for the JVM langauges, autotranslation between languages, interactive plots, tables, and more.\n",
    "\n",
    "This is an alpha release. There are still substantial important features missing and architectural problems. It's all under construction.  Your [feedback](mailto:beakerx-feedback@twosigma.com) is most welcome as it guides development and helps us improve.\n",
    "\n",
    "[Online documentation](http://jupyter-notebook.readthedocs.io/en/latest/examples/Notebook/Running%20Code.html) covers the basics of interacting with code cells and notebooks. There are more tutorials on a variety of languages and topics, linked from the lists below.\n",
    "\n",
    "## Language Demos\n",
    "[Java](contents/javaTutorial.ipynb), [Scala](contents/scala/scala.ipynb), [Clojure](contents/ClojureTutorial.ipynb), [SQL](contents/SQLExamples.ipynb), [C++](contents/Cpp_tutorial.ipynb), [Kotlin](contents/Kotlin-example.ipynb), [Groovy](contents/GroovyExamples.ipynb).\n",
    "\n",
    "## Native Plotting in Other Languages\n",
    "[JavaScript Time Series, JavaScript Category Plots](contents/plot-js-api.ipynb), [Python](contents/pythonChartingAPI.ipynb), [Scala](contents/scala/plotScalaDemo.ipynb)\n",
    "\n",
    "## Groovy Plotting and Charting\n",
    "[Example and Interaction](contents/chartingTutorial.ipynb), [Category Plots, Bar Charts](contents/categoryPlot.ipynb).\n",
    "\n",
    "## Table Display\n",
    "[Groovy API](contents/tableApi.ipynb), [Scala API](contents/scala/tableApiScala.ipynb)\n",
    "\n",
    "## TableSaw\n",
    "[TableSaw](contents/tablesawDemo.ipynb)\n",
    "\n",
    "## Groovy Plotting and Charting\n",
    "[Interactive Time Series](contents/interactive.ipynb), [Catalog of Plot APIs and Features](contents/PlotFeatures.ipynb), [Levels of Detail](contents/levelsOfDetails.ipynb), [Category Plots (Bar Charts)](contents/categoryPlot.ipynb), [Histograms](contents/histogram.ipynb), [Heatmaps](contents/heatmap.ipynb), [Treemaps](contents/treemap.ipynb), [Plot actions](contents/plotActions.ipynb), [Second Y Axis](contents/2ndYaxis.ipynb), [Map shortest path](contents/map_shortestpath.ipynb)\n",
    "\n",
    "## Forms and Widgets\n",
    "[EasyForm](contents/EasyFormDemos.ipynb), [Java Widgets](contents/JavaWidgets.ipynb), [EasyForm for Scala](contents/scala/EasyFormScalaDemos.ipynb)\n",
    "\n",
    "## Automation\n",
    "[Progress Reporting API](contents/ProgressUpdateReporting.ipynb)\n",
    "\n",
    "## Autotranslation\n",
    "[Python](contents/autotranslation_python.ipynb), [Groovy](contents/autotranslation_groovy_demo.ipynb)\n",
    "\n",
    "## Output containers and layout managers\n",
    "[Tabbed Output Container, Grid Output Container](contents/OutputContainersAndLayoutManagers.ipynb)\n",
    "\n",
    "---\n",
    "## Learn More\n",
    "On the web at the homepage [BeakerNotebook.com](http://beakernotebook.com), on [GitHub](https://github.com/twosigma/beakerx), and on [Two Sigma's Open Source site](http://opensource.twosigma.com/).\n",
    "\n",
    "## Open Source\n",
    "BeakerX's full source code and documentation are available on [GitHub](https://github.com/twosigma/beakerx) under the Apache 2.0 license."
   ]
  },
  {
   "cell_type": "markdown",
   "metadata": {},
   "source": [
    "# Publishing your results"
   ]
  },
  {
   "cell_type": "markdown",
   "metadata": {},
   "source": [
    "Beaker has a built-in to publish your work to a [publication server](https://pub.beakernotebook.com).\n",
    "Published notebooks are accessible as ordinary web pages with a URL that you can easily share and view almost anywhere.\n",
    "You can also \"publish\" unlisted notebooks that can only be read by those with the link.\n",
    "\n",
    "The **File → Publish...** menu command opens a dialog where you can log into the publication server, and then publish your notebook,\n",
    "including adding a preview image, meta-data, and a preview image.\n",
    "Later on you can update, edit, or delete your publication.\n",
    "\n",
    "You may also check the \"unlisted\" box when you publish.\n",
    "In that case, your notebook will only be findable by someone who has its URL, which has a long random string in it.\n",
    "The notebook is not shown in any category or search on the publication site.\n",
    "Note that \"unlisted\" publications do not have password protection; anyone who gets that URL can read it.\n",
    "\n",
    "In the same way, you can also use **Publish...** in the three-dot menu for cells and sections to publish just parts of the notebook."
   ]
  },
  {
   "cell_type": "code",
   "execution_count": null,
   "metadata": {
    "collapsed": true
   },
   "outputs": [],
   "source": []
  }
 ],
 "metadata": {
  "kernelspec": {
   "display_name": "Python 3",
   "language": "python",
   "name": "python3"
  },
  "language_info": {
   "codemirror_mode": {
    "name": "ipython",
    "version": 3
   },
   "file_extension": ".py",
   "mimetype": "text/x-python",
   "name": "python",
   "nbconvert_exporter": "python",
   "pygments_lexer": "ipython3",
   "version": "3.5.3"
  }
 },
 "nbformat": 4,
 "nbformat_minor": 2
}
