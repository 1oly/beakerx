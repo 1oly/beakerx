{
 "cells": [
  {
   "cell_type": "markdown",
   "metadata": {},
   "source": [
    "# Tutorials, Examples, and Demos"
   ]
  },
  {
   "cell_type": "markdown",
   "metadata": {},
   "source": [
    "[Jupyter](http://jupyter.org/) and [BeakerX](https://github.com/twosigma/beakerx) are based on the idea of the lab notebook, brought to life in your web browser. Each notebook is a place for recording the written ideas, data, images, spreadsheets, diagrams, equations, and especially code, that one produces in the course of research. You can analyze, visualize, and document data and science, using multiple programming languages.  BeakerX is an extension of Jupyter, including kernels for the JVM langauges, autotranslation between languages, interactive plots, tables, and more.\n",
    "\n",
    "This is an alpha release. There are still substantial important features missing and architectural problems. It's all under construction.  Your [feedback](mailto:beakerx-feedback@twosigma.com) is most welcome as it guides development and helps us improve.\n",
    "\n",
    "[Online documentation](http://jupyter-notebook.readthedocs.io/en/latest/examples/Notebook/Running%20Code.html) covers the basics of interacting with code cells and notebooks. There are more tutorials on a variety of languages and topics, linked from the lists below.\n",
    "\n",
    "### Language Demos\n",
    "[Groovy](contents/GroovyExamples.ipynb), [Java](contents/javaTutorial.ipynb), [Scala](contents/scala/scala.ipynb), [Clojure](contents/ClojureTutorial.ipynb), [SQL](contents/SQLExamples.ipynb), [Kotlin](contents/Kotlin-example.ipynb).\n",
    "\n",
    "### Groovy Plotting and Charting\n",
    "[Example and Interaction](contents/chartingTutorial.ipynb), [Category Plots and Bar Charts](contents/categoryPlot.ipynb), [Catalog of Plot APIs and Features](contents/PlotFeatures.ipynb), [Levels of Detail](contents/levelsOfDetails.ipynb), [Histograms](contents/histogram.ipynb), [Heatmaps](contents/heatmap.ipynb), [Treemaps](contents/treemap.ipynb), [Plot Actions](contents/plotActions.ipynb), [Second Y Axis](contents/2ndYaxis.ipynb).\n",
    "\n",
    "### Table Display\n",
    "[Groovy API including Actions](contents/tableApi.ipynb).\n",
    "\n",
    "### BeakerX Plotting in Other Languages\n",
    "[JavaScript](contents/plot-js-api.ipynb), [Python](contents/pythonChartingAPI.ipynb).\n",
    "\n",
    "### Scala\n",
    "[EasyForm](contents/scala/EasyFormScalaDemos.ipynb), [Tables](contents/scala/tableApiScala.ipynb), [Plotting](contents/scala/plotScalaDemo.ipynb).\n",
    " \n",
    "### Forms and Widgets\n",
    "[EasyForm](contents/EasyFormDemos.ipynb), [Output Containers and Layout Managers](contents/OutputContainersAndLayoutManagers.ipynb), [Groovy interface to Jupyter JS Widgets](contents/JavaWidgets.ipynb), [Interactive recomputation](contents/interactive.ipynb).\n",
    "\n",
    "### Automation\n",
    "[Progress Reporting API](contents/ProgressUpdateReporting.ipynb)\n",
    "\n",
    "### Autotranslation\n",
    "[Python](contents/autotranslation_python.ipynb), [Groovy](contents/autotranslation_groovy_demo.ipynb)\n",
    "\n",
    "### TableSaw\n",
    "[TableSaw](contents/tablesawDemo.ipynb)\n",
    "\n",
    "## Learn More\n",
    "On the web at the homepage [BeakerNotebook.com](http://beakernotebook.com), on [GitHub](https://github.com/twosigma/beakerx), and on [Two Sigma's Open Source site](http://opensource.twosigma.com/).\n",
    "\n",
    "## Open Source\n",
    "BeakerX's full source code and documentation are available on [GitHub](https://github.com/twosigma/beakerx) under the Apache 2.0 license."
   ]
  }
 ],
 "metadata": {
  "kernelspec": {
   "display_name": "Python 3",
   "language": "python",
   "name": "python3"
  },
  "language_info": {
   "codemirror_mode": {
    "name": "ipython",
    "version": 3
   },
   "file_extension": ".py",
   "mimetype": "text/x-python",
   "name": "python",
   "nbconvert_exporter": "python",
   "pygments_lexer": "ipython3",
   "version": "3.5.3"
  }
 },
 "nbformat": 4,
 "nbformat_minor": 2
}
