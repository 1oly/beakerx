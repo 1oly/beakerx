{
 "cells": [
  {
   "cell_type": "code",
   "execution_count": 14,
   "metadata": {},
   "outputs": [
    {
     "data": {
      "text/plain": [
       "null"
      ]
     },
     "execution_count": 14,
     "metadata": {},
     "output_type": "execute_result"
    }
   ],
   "source": [
    "import jupyter.Displayer;\n",
    "import jupyter.Displayers;\n",
    "Displayers.register(Integer.class, new Displayer<Integer>() {\n",
    "      @Override\n",
    "      public Map<String, String> display(Integer value) {\n",
    "        return new HashMap<String, String>() {{\n",
    "          put(MIMEContainer.MIME.TEXT_HTML, \"<div><h1>\" + value + \"</h1></div>\");\n",
    "          \n",
    "        }};\n",
    "      }\n",
    "    });"
   ]
  },
  {
   "cell_type": "code",
   "execution_count": 15,
   "metadata": {},
   "outputs": [
    {
     "data": {
      "text/html": [
       "<div><h1>2</h1></div>"
      ],
      "text/plain": [
       "<div><h1>2</h1></div>"
      ]
     },
     "execution_count": 15,
     "metadata": {},
     "output_type": "execute_result"
    }
   ],
   "source": [
    "1+1"
   ]
  },
  {
   "cell_type": "code",
   "execution_count": 8,
   "metadata": {},
   "outputs": [],
   "source": [
    "import jupyter.Displayer;\n",
    "import jupyter.Displayers;\n",
    "Displayers.display(1+1);"
   ]
  },
  {
   "cell_type": "code",
   "execution_count": null,
   "metadata": {
    "collapsed": true
   },
   "outputs": [],
   "source": []
  }
 ],
 "metadata": {
  "kernelspec": {
   "display_name": "Groovy",
   "language": "groovy",
   "name": "groovy"
  },
  "language_info": {
   "codemirror_mode": "groovy",
   "file_extension": ".groovy",
   "mimetype": "",
   "name": "Groovy",
   "nbconverter_exporter": "",
   "version": "2.4.3"
  }
 },
 "nbformat": 4,
 "nbformat_minor": 2
}
