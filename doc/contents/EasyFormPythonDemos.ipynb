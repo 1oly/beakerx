{
 "cells": [
  {
   "cell_type": "code",
   "execution_count": null,
   "metadata": {
    "collapsed": true
   },
   "outputs": [],
   "source": [
    "from beakerx import *\n",
    "\n",
    "f = EasyForm(\"Form and Run\")\n",
    "f.addTextField(description=\"first\", width=150)\n",
    "f.addTextField(description=\"last\", width=250)\n",
    "f['first'] = \"First\"\n",
    "f['last'] = \"Last\"\n",
    "f.addButton(description=\"Go!\", tag=\"run\")\n",
    "f"
   ]
  },
  {
   "cell_type": "code",
   "execution_count": null,
   "metadata": {
    "collapsed": true
   },
   "outputs": [],
   "source": [
    "f['last'][::-1] + '...' + f['first']"
   ]
  },
  {
   "cell_type": "code",
   "execution_count": null,
   "metadata": {
    "collapsed": true
   },
   "outputs": [],
   "source": [
    "f['first'] = 'Beaker'\n",
    "f['last'] = 'Berzelius'"
   ]
  },
  {
   "cell_type": "code",
   "execution_count": null,
   "metadata": {
    "collapsed": true
   },
   "outputs": [],
   "source": [
    "from beakerx import *\n",
    "\n",
    "h = EasyForm(title=\"Form and Run\")\n",
    "#h.addTextField(description=\"first\", width=380)\n",
    "h.addTextArea(description=\"Text Area\",height=500,width=500)\n",
    "h"
   ]
  },
  {
   "cell_type": "code",
   "execution_count": null,
   "metadata": {
    "collapsed": true
   },
   "outputs": [],
   "source": []
  },
  {
   "cell_type": "code",
   "execution_count": null,
   "metadata": {
    "collapsed": true
   },
   "outputs": [],
   "source": [
    "from beakerx import *\n",
    "\n",
    "g2 = EasyForm(\"Field Types\")\n",
    "options = [\"a\", \"b\", \"c\", \"d\", \"e\", \"f\"]\n",
    "g2.addList(description=\"List Single\", options=options, multi=False)\n",
    "g2.addList(description=\"List Two Row\", options=options, rows=2)\n",
    "g2"
   ]
  },
  {
   "cell_type": "code",
   "execution_count": null,
   "metadata": {
    "collapsed": true
   },
   "outputs": [],
   "source": [
    "f1['last']+ \", \"+f1['first']"
   ]
  },
  {
   "cell_type": "code",
   "execution_count": null,
   "metadata": {
    "collapsed": true
   },
   "outputs": [],
   "source": [
    "f1['last'] = \"new Value\""
   ]
  },
  {
   "cell_type": "code",
   "execution_count": null,
   "metadata": {
    "collapsed": true
   },
   "outputs": [],
   "source": [
    "f1['first'] = \"new Value2\""
   ]
  },
  {
   "cell_type": "code",
   "execution_count": null,
   "metadata": {
    "collapsed": true
   },
   "outputs": [],
   "source": [
    "#All Kinds of Fields\n",
    "from beakerx import *\n",
    "\n",
    "g = EasyForm(\"Field Types\")\n",
    "g.addTextField(description=\"Short Text Field\", width=10)\n",
    "g.addTextField(description=\"Text Field\")\n",
    "g.addTextArea(description=\"Text Area\")\n",
    "g.addCheckBox(description=\"Check Box\")\n",
    "options = [\"a\", \"b\", \"c\", \"d\"]\n",
    "g.addComboBox(description=\"Combo Box\", options=options)\n",
    "\n",
    "g.addList(description=\"List\", options=options)\n",
    "g.addList(description=\"List Single\", options=options, multi=False)\n",
    "g.addList(description=\"List Two Row\", options=options, rows=2)\n",
    "\n",
    "g.addCheckBoxes(value=\"Check Boxes\", options=options)\n",
    "g.addCheckBoxes(value=\"Check Boxes H\", options=options, orientation=EasyForm.HORIZONTAL)\n",
    "\n",
    "g.addRadioButtons(value=\"Radio Buttons\", options=options)\n",
    "g.addRadioButtons(value=\"Radio Buttons H\", options=options, orientation=EasyForm.HORIZONTAL)\n",
    "\n",
    "g.addDatePicker(description=\"Date\")\n",
    "\n",
    "g.addButton(description=\"Go!\", tag=\"run2\")\n",
    "g"
   ]
  },
  {
   "cell_type": "code",
   "execution_count": null,
   "metadata": {
    "collapsed": true
   },
   "outputs": [],
   "source": [
    "from beakerx import *\n",
    "\n",
    "gdp = EasyForm(\"Field Types\")\n",
    "gdp.addDatePicker(description=\"Date\")\n",
    "gdp"
   ]
  },
  {
   "cell_type": "code",
   "execution_count": null,
   "metadata": {
    "collapsed": true
   },
   "outputs": [],
   "source": [
    "gdp['Date']"
   ]
  },
  {
   "cell_type": "code",
   "execution_count": null,
   "metadata": {
    "collapsed": true
   },
   "outputs": [],
   "source": [
    "f.put(\"First\", \"Micheal\")\n",
    "f.put(\"last\", \"Fox\")\n",
    "# Read values from form\n",
    "firstName = f.get(\"first\")\n",
    "lastName = f.get(\"last\")\n",
    "\n",
    "print(\"Good morning \" + firstName + \" \" + lastName)"
   ]
  }
 ],
 "metadata": {
  "kernelspec": {
   "display_name": "Python 3",
   "language": "python",
   "name": "python3"
  },
  "language_info": {
   "codemirror_mode": {
    "name": "ipython",
    "version": 3
   },
   "file_extension": ".py",
   "mimetype": "text/x-python",
   "name": "python",
   "nbconvert_exporter": "python",
   "pygments_lexer": "ipython3",
   "version": "3.5.3"
  }
 },
 "nbformat": 4,
 "nbformat_minor": 1
}
