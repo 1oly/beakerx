{
 "cells": [
  {
   "cell_type": "markdown",
   "metadata": {},
   "source": [
    "# Groovy Examples\n",
    "\n",
    "Groovy is the language that should have been called JavaScript because it is a scripting version of Java. You can use it to access the contents of any JAR, which you can include via the classpath in the Language Manager.\n",
    "\n",
    "Groovy comes included with Beaker, so it should just work."
   ]
  },
  {
   "cell_type": "code",
   "execution_count": null,
   "metadata": {
    "collapsed": true
   },
   "outputs": [],
   "source": [
    "def a = 1 //local variable\n",
    "b = 2 //global variable"
   ]
  },
  {
   "cell_type": "code",
   "execution_count": null,
   "metadata": {
    "collapsed": true
   },
   "outputs": [],
   "source": [
    "a //error"
   ]
  },
  {
   "cell_type": "code",
   "execution_count": null,
   "metadata": {
    "collapsed": true
   },
   "outputs": [],
   "source": [
    "b //this works"
   ]
  },
  {
   "cell_type": "code",
   "execution_count": null,
   "metadata": {
    "collapsed": true
   },
   "outputs": [],
   "source": [
    "//closure example\n",
    "timesTwo = {x -> x*2}"
   ]
  },
  {
   "cell_type": "code",
   "execution_count": null,
   "metadata": {
    "collapsed": true
   },
   "outputs": [],
   "source": [
    "timesTwo(4)"
   ]
  },
  {
   "cell_type": "code",
   "execution_count": null,
   "metadata": {
    "collapsed": true
   },
   "outputs": [],
   "source": [
    "timesTwo(\"Multiplying Strings!\")"
   ]
  },
  {
   "cell_type": "code",
   "execution_count": null,
   "metadata": {
    "collapsed": true
   },
   "outputs": [],
   "source": [
    "// You can add a static import of Math.*\n",
    "// in the Language Manager, it is not the default but this\n",
    "// notebook has it set so this works:\n",
    "sin(3.1415)"
   ]
  },
  {
   "cell_type": "code",
   "execution_count": null,
   "metadata": {
    "collapsed": true
   },
   "outputs": [],
   "source": [
    "// Like most languages, output normally appears in the cell output and\n",
    "// is saved in the notebook.\n",
    "println(\"standard\")\n",
    "println(\"output\")"
   ]
  },
  {
   "cell_type": "code",
   "execution_count": null,
   "metadata": {
    "collapsed": true
   },
   "outputs": [],
   "source": [
    "// But if you set the followin preference, then output is directed to a panel that opens up\n",
    "// and collects all ouput like a log, and is not saved in the notebook.\n",
    "// The preference itself is not saved in the notebook.\n",
    "beaker.prefs.useOutputPanel = true\n",
    "// After running this cell, run the above cell again."
   ]
  },
  {
   "cell_type": "code",
   "execution_count": null,
   "metadata": {
    "collapsed": true
   },
   "outputs": [],
   "source": [
    "// Normally the output that appears in cell output is limited to 1000 lines.\n",
    "// Set this preference to change that limit.\n",
    "beaker.prefs.outputLineLimit = 2"
   ]
  }
 ],
 "metadata": {
  "kernelspec": {
   "display_name": "Groovy",
   "language": "groovy",
   "name": "groovy"
  },
  "language_info": {
   "codemirror_mode": "groovy",
   "file_extension": ".groovy",
   "mimetype": "",
   "name": "Groovy",
   "nbconverter_exporter": "",
   "version": "2.4.3"
  }
 },
 "nbformat": 4,
 "nbformat_minor": 2
}
