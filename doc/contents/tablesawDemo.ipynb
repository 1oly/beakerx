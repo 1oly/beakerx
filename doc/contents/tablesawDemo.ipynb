{
 "cells": [
  {
   "cell_type": "markdown",
   "metadata": {},
   "source": [
    "# Tablesaw \n",
    "\n",
    "[Tablesaw](https://jtablesaw.wordpress.com/) is easy to add to the BeakerX Groovy kernel.\n",
    "Tablesaw provides the ability to easily transform, summarize, and filter data, as well as computing descriptive statistics and fundamental machine learning algorithms.\n",
    "\n",
    "This notebook has some basic demos of how to use Tablesaw, including visualizing the results.  This notebook uses the Beaker interactive visualizaiton libraries, but Tablesaw's APIs also work.  The notebook covers basic table manipulation, k-means clustering, and linear regression.\n",
    "\n",
    "Just download the Tablesaw jar and put it in the same directory as this notebook is in.\n",
    "\n",
    "## Basics of Table manipulation\n",
    "\n",
    "More description is available at https://jtablesaw.wordpress.com/an-introduction/"
   ]
  },
  {
   "cell_type": "code",
   "execution_count": 1,
   "metadata": {},
   "outputs": [
    {
     "name": "stdout",
     "output_type": "stream",
     "text": [
      "Added jar: [tablesaw.jar]\n"
     ]
    }
   ],
   "source": [
    "%classpath add jar tablesaw.jar\n",
    "%import com.github.lwhite1.tablesaw.api.*\n",
    "%import com.github.lwhite1.tablesaw.api.ml.clustering.*\n",
    "%import com.github.lwhite1.tablesaw.api.ml.regression.*\n",
    "%import com.github.lwhite1.tablesaw.columns.*    \n",
    "%import com.github.lwhite1.tablesaw.reducing.*    "
   ]
  },
  {
   "cell_type": "code",
   "execution_count": 2,
   "metadata": {},
   "outputs": [
    {
     "data": {
      "text/plain": [
       "null"
      ]
     },
     "execution_count": 2,
     "metadata": {},
     "output_type": "execute_result"
    }
   ],
   "source": [
    "import jupyter.Displayer;\n",
    "import jupyter.Displayers;\n",
    "\n",
    "Displayers.register(Table.class, new Displayer<Table>() {\n",
    "      @Override\n",
    "      public Map<String, String> display(Table table) {\n",
    "        return new HashMap<String, String>() {{\n",
    "            new TableDisplay(\n",
    "                    table.rowCount(),\n",
    "                    table.columnCount(),\n",
    "                    table.columnNames(),\n",
    "                    new TableDisplay.Element() {\n",
    "                      @Override\n",
    "                      public String get(int columnIndex, int rowIndex) {\n",
    "                        return table.get(columnIndex, rowIndex);\n",
    "                      }\n",
    "                    }\n",
    "            ).display();\n",
    "            put(MIMEContainer.HIDDEN.getMime().asString(), MIMEContainer.HIDDEN.getData());\n",
    "        }};\n",
    "      }\n",
    "    });"
   ]
  },
  {
   "cell_type": "code",
   "execution_count": 3,
   "metadata": {
    "collapsed": true
   },
   "outputs": [],
   "source": [
    "tornadoes = Table.createFromCsv(\"Tablesaw/tornadoes_2014.csv\")\n",
    "//print dataset structure    \n",
    "tornadoes"
   ]
  },
  {
   "cell_type": "code",
   "execution_count": 36,
   "metadata": {},
   "outputs": [
    {
     "data": {
      "text/plain": [
       "[Date, Time, State, State No, Scale, Injuries, Fatalities, Start Lat, Start Lon, Length, Width]"
      ]
     },
     "execution_count": 36,
     "metadata": {},
     "output_type": "execute_result"
    }
   ],
   "source": [
    "//get header names\n",
    "tornadoes.columnNames()"
   ]
  },
  {
   "cell_type": "code",
   "execution_count": null,
   "metadata": {
    "collapsed": true
   },
   "outputs": [],
   "source": []
  },
  {
   "cell_type": "code",
   "execution_count": 37,
   "metadata": {},
   "outputs": [
    {
     "data": {
      "text/plain": [
       "908 rows X 11 cols"
      ]
     },
     "execution_count": 37,
     "metadata": {},
     "output_type": "execute_result"
    }
   ],
   "source": [
    "//displays the row and column counts\n",
    "tornadoes.shape()"
   ]
  },
  {
   "cell_type": "code",
   "execution_count": 24,
   "metadata": {
    "collapsed": true
   },
   "outputs": [],
   "source": [
    "//displays the first n rows\n",
    "tornadoes.first(10)"
   ]
  },
  {
   "cell_type": "code",
   "execution_count": 25,
   "metadata": {
    "collapsed": true
   },
   "outputs": [],
   "source": [
    "import static com.github.lwhite1.tablesaw.api.QueryHelper.column\n",
    "tornadoes.structure().selectWhere(column(\"Column Type\").isEqualTo(\"FLOAT\"))"
   ]
  },
  {
   "cell_type": "code",
   "execution_count": 26,
   "metadata": {},
   "outputs": [
    {
     "data": {
      "text/plain": [
       "\n",
       "Table summary for: tornadoes_2014.csv\n",
       "Column: Date\n",
       "Measure  Value      \n",
       "Count    908        \n",
       "Missing  0          \n",
       "Earliest 2014-01-11 \n",
       "Latest   2014-12-29 \n",
       "\n",
       "Column: Time\n",
       "Measure  Value \n",
       "Count    908   \n",
       "Missing  0     \n",
       "Earliest 00:01 \n",
       "Latest   23:59 \n",
       "\n",
       "Column: State\n",
       "Category Count \n",
       "GA       32    \n",
       "NM       15    \n",
       "MT       8     \n",
       "CO       49    \n",
       "WV       9     \n",
       "IN       28    \n",
       "MD       2     \n",
       "CA       9     \n",
       "AL       55    \n",
       "TN       18    \n",
       "NV       6     \n",
       "PA       9     \n",
       "WY       13    \n",
       "ID       3     \n",
       "KS       41    \n",
       "IA       56    \n",
       "MN       24    \n",
       "TX       46    \n",
       "WA       3     \n",
       "OK       17    \n",
       "NE       62    \n",
       "AR       20    \n",
       "ND       14    \n",
       "WI       22    \n",
       "IL       49    \n",
       "SD       29    \n",
       "MS       42    \n",
       "FL       28    \n",
       "AZ       3     \n",
       "NY       11    \n",
       "NC       32    \n",
       "OH       20    \n",
       "DE       1     \n",
       "VA       12    \n",
       "MO       47    \n",
       "ME       4     \n",
       "LA       15    \n",
       "MI       13    \n",
       "SC       7     \n",
       "KY       28    \n",
       "MA       3     \n",
       "CT       1     \n",
       "NH       2     \n",
       "\n",
       "Column: State No\n",
       "Measure  Value \n",
       "n        908.0 \n",
       "sum      0.0   \n",
       "Mean     0.0   \n",
       "Min      0.0   \n",
       "Max      0.0   \n",
       "Range    0.0   \n",
       "Variance 0.0   \n",
       "Std. Dev 0.0   \n",
       "\n",
       "Column: Scale\n",
       "Measure  Value      \n",
       "n        908.0      \n",
       "sum      567.0      \n",
       "Mean     0.6244493  \n",
       "Min      0.0        \n",
       "Max      4.0        \n",
       "Range    4.0        \n",
       "Variance 0.6272737  \n",
       "Std. Dev 0.79200613 \n",
       "\n",
       "Column: Injuries\n",
       "Measure  Value      \n",
       "n        908.0      \n",
       "sum      684.0      \n",
       "Mean     0.75330395 \n",
       "Min      0.0        \n",
       "Max      193.0      \n",
       "Range    193.0      \n",
       "Variance 57.68108   \n",
       "Std. Dev 7.594806   \n",
       "\n",
       "Column: Fatalities\n",
       "Measure  Value       \n",
       "n        908.0       \n",
       "sum      48.0        \n",
       "Mean     0.052863438 \n",
       "Min      0.0         \n",
       "Max      16.0        \n",
       "Range    16.0        \n",
       "Variance 0.44262686  \n",
       "Std. Dev 0.6653021   \n",
       "\n",
       "Column: Start Lat\n",
       "Measure  Value     \n",
       "n        908.0     \n",
       "sum      34690.984 \n",
       "Mean     38.20593  \n",
       "Min      0.0       \n",
       "Max      48.86     \n",
       "Range    48.86     \n",
       "Variance 22.448586 \n",
       "Std. Dev 4.7379937 \n",
       "\n",
       "Column: Start Lon\n",
       "Measure  Value     \n",
       "n        908.0     \n",
       "sum      -83613.02 \n",
       "Mean     -92.08483 \n",
       "Min      -122.946  \n",
       "Max      0.0       \n",
       "Range    122.946   \n",
       "Variance 91.84773  \n",
       "Std. Dev 9.583722  \n",
       "\n",
       "Column: Length\n",
       "Measure  Value     \n",
       "n        908.0     \n",
       "sum      3014.49   \n",
       "Mean     3.319923  \n",
       "Min      0.0       \n",
       "Max      45.68     \n",
       "Range    45.68     \n",
       "Variance 28.736567 \n",
       "Std. Dev 5.3606496 \n",
       "\n",
       "Column: Width\n",
       "Measure  Value     \n",
       "n        908.0     \n",
       "sum      149778.0  \n",
       "Mean     164.95375 \n",
       "Min      0.0       \n",
       "Max      2640.0    \n",
       "Range    2640.0    \n",
       "Variance 57764.465 \n",
       "Std. Dev 240.34239 \n",
       "\n",
       "\n"
      ]
     },
     "execution_count": 26,
     "metadata": {},
     "output_type": "execute_result"
    }
   ],
   "source": [
    "//summarize the data in each column\n",
    "tornadoes.summary()"
   ]
  },
  {
   "cell_type": "code",
   "execution_count": 41,
   "metadata": {},
   "outputs": [
    {
     "data": {
      "text/plain": [
       "[Date, Time, State, State No, Scale, Injuries, Fatalities, Start Lat, Start Lon, Length, Width, Date month]"
      ]
     },
     "execution_count": 41,
     "metadata": {},
     "output_type": "execute_result"
    }
   ],
   "source": [
    "//Mapping operations\n",
    "def month = tornadoes.dateColumn(\"Date\").month()\n",
    "tornadoes.addColumn(month);\n",
    "tornadoes.columnNames()"
   ]
  },
  {
   "cell_type": "code",
   "execution_count": 27,
   "metadata": {
    "collapsed": true
   },
   "outputs": [],
   "source": [
    "//Sorting by column\n",
    "tornadoes.sortOn(\"-Fatalities\")"
   ]
  },
  {
   "cell_type": "code",
   "execution_count": 28,
   "metadata": {
    "collapsed": true
   },
   "outputs": [],
   "source": [
    "//Descriptive statistics\n",
    "tornadoes.column(\"Fatalities\").summary();"
   ]
  },
  {
   "cell_type": "code",
   "execution_count": 29,
   "metadata": {
    "collapsed": true
   },
   "outputs": [],
   "source": [
    "//Performing totals and sub-totals\n",
    "def injuriesByScale = tornadoes.median(\"Injuries\").by(\"Scale\")\n",
    "injuriesByScale.setName(\"Median injuries by Tornado Scale\")\n",
    "injuriesByScale"
   ]
  },
  {
   "cell_type": "code",
   "execution_count": 30,
   "metadata": {
    "collapsed": true
   },
   "outputs": [],
   "source": [
    "//Cross Tabs\n",
    "CrossTab.xCount(tornadoes, tornadoes.categoryColumn(\"State\"), tornadoes.shortColumn(\"Scale\"))"
   ]
  },
  {
   "cell_type": "markdown",
   "metadata": {},
   "source": [
    "## K-means clustering\n",
    "\n",
    "K-means is the most common form of “centroid” clustering. Unlike classification, clustering is an unsupervised learning method. The categories are not predetermined. Instead, the goal is to search for natural groupings in the dataset, such that the members of each group are similar to each other and different from the members of the other groups. The K represents the number of groups to find.\n",
    "\n",
    "We’ll use a well known Scotch Whiskey dataset, which is used to cluster whiskeys according to their taste based on data collected from tasting notes. As always, we start by loading data and printing its structure.\n",
    "\n",
    "More description is available at https://jtablesaw.wordpress.com/2016/08/08/k-means-clustering-in-java/"
   ]
  },
  {
   "cell_type": "code",
   "execution_count": 32,
   "metadata": {},
   "outputs": [
    {
     "ename": "java.lang.ArrayIndexOutOfBoundsException",
     "evalue": " -1",
     "output_type": "error",
     "traceback": [
      "\u001b[0;31mjava.lang.ArrayIndexOutOfBoundsException: -1",
      "\u001b[0;31m\tat com.github.lwhite1.tablesaw.io.csv.AddCellToColumnException.<init>(AddCellToColumnException.java:46)",
      "\u001b[0;31m\tat com.github.lwhite1.tablesaw.io.csv.CsvReader.read(CsvReader.java:149)",
      "\u001b[0;31m\tat com.github.lwhite1.tablesaw.io.csv.CsvReader.read(CsvReader.java:76)",
      "\u001b[0;31m\tat com.github.lwhite1.tablesaw.io.csv.CsvReader.read(CsvReader.java:91)",
      "\u001b[0;31m\tat com.github.lwhite1.tablesaw.api.Table.createFromCsv(Table.java:795)",
      "\u001b[0;31m\tat com.github.lwhite1.tablesaw.api.Table$createFromCsv.call(Unknown Source)",
      "\u001b[0;31m\tat script15015748520561093873476.run(script15015748520561093873476.groovy:1)",
      "\u001b[0;31m\tat com.twosigma.beakerx.groovy.evaluator.GroovyEvaluator$workerThread$MyRunnable.run(GroovyEvaluator.java:475)"
     ]
    }
   ],
   "source": [
    "t = Table.createFromCsv(\"Tablesaw/whiskey.csv\")\n",
    "t.structure().print();"
   ]
  },
  {
   "cell_type": "code",
   "execution_count": 25,
   "metadata": {},
   "outputs": [
    {
     "ename": "groovy.lang.MissingPropertyException",
     "evalue": " No such property",
     "output_type": "error",
     "traceback": [
      "\u001b[0;31mgroovy.lang.MissingPropertyException: No such property: t for class: script15015696309171439737446",
      "\u001b[0;31m\tat script15015696309171439737446.run(script15015696309171439737446.groovy:3)",
      "\u001b[0;31m\tat com.twosigma.beakerx.groovy.evaluator.GroovyEvaluator$workerThread$MyRunnable.run(GroovyEvaluator.java:475)"
     ]
    }
   ],
   "source": [
    "model = new Kmeans(\n",
    "    5,\n",
    "    t.nCol(2), t.nCol(3), t.nCol(4), t.nCol(5), t.nCol(6), t.nCol(7),\n",
    "    t.nCol(8), t.nCol(9), t.nCol(10), t.nCol(11), t.nCol(12), t.nCol(13)\n",
    ");\n",
    "\n",
    "//print claster formation\n",
    "model.clustered(t.column(\"Distillery\")).print();"
   ]
  },
  {
   "cell_type": "code",
   "execution_count": 26,
   "metadata": {},
   "outputs": [
    {
     "ename": "groovy.lang.MissingPropertyException",
     "evalue": " No such property",
     "output_type": "error",
     "traceback": [
      "\u001b[0;31mgroovy.lang.MissingPropertyException: No such property: model for class: script1501569630948636677463",
      "\u001b[0;31m\tat script1501569630948636677463.run(script1501569630948636677463.groovy:2)",
      "\u001b[0;31m\tat com.twosigma.beakerx.groovy.evaluator.GroovyEvaluator$workerThread$MyRunnable.run(GroovyEvaluator.java:475)"
     ]
    }
   ],
   "source": [
    "//print centroids for each claster\n",
    "model.labeledCentroids().print();"
   ]
  },
  {
   "cell_type": "code",
   "execution_count": 27,
   "metadata": {},
   "outputs": [
    {
     "ename": "groovy.lang.MissingPropertyException",
     "evalue": " No such property",
     "output_type": "error",
     "traceback": [
      "\u001b[0;31mgroovy.lang.MissingPropertyException: No such property: model for class: script15015696309641930406048",
      "\u001b[0;31m\tat script15015696309641930406048.run(script15015696309641930406048.groovy:2)",
      "\u001b[0;31m\tat com.twosigma.beakerx.groovy.evaluator.GroovyEvaluator$workerThread$MyRunnable.run(GroovyEvaluator.java:475)"
     ]
    }
   ],
   "source": [
    "//gets the distortion for our model\n",
    "model.distortion()"
   ]
  },
  {
   "cell_type": "code",
   "execution_count": 28,
   "metadata": {},
   "outputs": [
    {
     "ename": "groovy.lang.MissingPropertyException",
     "evalue": " No such property",
     "output_type": "error",
     "traceback": [
      "\u001b[0;31mgroovy.lang.MissingPropertyException: No such property: t for class: script1501569630975199354258",
      "\u001b[0;31m\tat script1501569630975199354258.run(script1501569630975199354258.groovy:1)",
      "\u001b[0;31m\tat com.twosigma.beakerx.groovy.evaluator.GroovyEvaluator$workerThread$MyRunnable.run(GroovyEvaluator.java:475)"
     ]
    }
   ],
   "source": [
    "def n = t.rowCount();\n",
    "def kValues = new double[n - 2];\n",
    "def distortions = new double[n - 2];\n",
    "\n",
    "for (int k = 2; k < n; k++) {\n",
    "  kValues[k - 2] = k;\n",
    "  def kmeans = new Kmeans(k,\n",
    "      t.nCol(2), t.nCol(3), t.nCol(4), t.nCol(5), t.nCol(6), t.nCol(7),\n",
    "      t.nCol(8), t.nCol(9), t.nCol(10), t.nCol(11), t.nCol(12), t.nCol(13)\n",
    "  );\n",
    "  distortions[k - 2] = kmeans.distortion();\n",
    "}\n",
    "def linearYPlot = new Plot(title: \"K-means clustering demo\", xLabel:\"K\", yLabel: \"distortion\")\n",
    "linearYPlot << new Line(x: kValues, y: distortions)"
   ]
  },
  {
   "cell_type": "markdown",
   "metadata": {},
   "source": [
    "## Play (Money)ball with Linear Regression\n",
    "\n",
    "In baseball, you make the playoffs by winning more games than your rivals. The number of games the rivals win is out of your control so the A’s looked instead at how many wins it took historically to make the playoffs. They decided that 95 wins would give them a strong chance.  Here’s how we might check that assumption in Tablesaw.\n",
    "\n",
    "More description is available at https://jtablesaw.wordpress.com/2016/07/31/play-moneyball-data-science-in-tablesaw/"
   ]
  },
  {
   "cell_type": "code",
   "execution_count": 29,
   "metadata": {
    "collapsed": true
   },
   "outputs": [],
   "source": [
    "import static com.github.lwhite1.tablesaw.api.QueryHelper.column\n",
    "\n",
    "baseball = Table.createFromCsv(\"Tablesaw/baseball.csv\");\n",
    "\n",
    "// filter to the data available at the start of the 2002 season\n",
    "moneyball = baseball.selectWhere(column(\"year\").isLessThan(2002));\n",
    "wins = moneyball.nCol(\"W\");\n",
    "year = moneyball.nCol(\"Year\");\n",
    "playoffs = moneyball.column(\"Playoffs\");\n",
    "runDifference = moneyball.shortColumn(\"RS\").subtract(moneyball.shortColumn(\"RA\"));\n",
    "moneyball.addColumn(runDifference);\n",
    "runDifference.setName(\"RD\");\n",
    "\n",
    "def Plot = new Plot(title: \"RD x Wins\", xLabel:\"RD\", yLabel: \"W\")\n",
    "Plot << new Points(x: moneyball.numericColumn(\"RD\").toDoubleArray(), y: moneyball.numericColumn(\"W\").toDoubleArray())"
   ]
  },
  {
   "cell_type": "code",
   "execution_count": 30,
   "metadata": {},
   "outputs": [
    {
     "data": {
      "text/plain": [
       "Linear Model:\n",
       "\n",
       "Residuals:\n",
       "\t       Min\t        1Q\t    Median\t        3Q\t       Max\n",
       "\t  -14.2662\t   -2.6511\t    0.1282\t    2.9365\t   11.6570\n",
       "\n",
       "Coefficients:\n",
       "            Estimate        Std. Error        t value        Pr(>|t|)\n",
       "(Intercept)    80.8814            0.1312       616.6747          0.0000 ***\n",
       "RD              0.1058            0.0013        81.5536          0.0000 ***\n",
       "---------------------------------------------------------------------\n",
       "Significance codes:  0 '***' 0.001 '**' 0.01 '*' 0.05 '.' 0.1 ' ' 1\n",
       "\n",
       "Residual standard error: 3.9391 on 900 degrees of freedom\n",
       "Multiple R-squared: 0.8808,    Adjusted R-squared: 0.8807\n",
       "F-statistic: 6650.9926 on 1 and 900 DF,  p-value: 0.000\n"
      ]
     },
     "execution_count": 30,
     "metadata": {},
     "output_type": "execute_result"
    }
   ],
   "source": [
    "winsModel = LeastSquares.train(wins, runDifference);"
   ]
  },
  {
   "cell_type": "code",
   "execution_count": 31,
   "metadata": {},
   "outputs": [
    {
     "data": {
      "text/plain": [
       "Linear Model:\n",
       "\n",
       "Residuals:\n",
       "\t       Min\t        1Q\t    Median\t        3Q\t       Max\n",
       "\t  -70.8379\t  -17.1810\t   -1.0917\t   16.7812\t   90.0358\n",
       "\n",
       "Coefficients:\n",
       "            Estimate        Std. Error        t value        Pr(>|t|)\n",
       "(Intercept)  -804.6271           18.9208       -42.5261          0.0000 ***\n",
       "OBP          2737.7682           90.6846        30.1900          0.0000 ***\n",
       "SLG          1584.9085           42.1556        37.5966          0.0000 ***\n",
       "---------------------------------------------------------------------\n",
       "Significance codes:  0 '***' 0.001 '**' 0.01 '*' 0.05 '.' 0.1 ' ' 1\n",
       "\n",
       "Residual standard error: 24.7900 on 899 degrees of freedom\n",
       "Multiple R-squared: 0.9296,    Adjusted R-squared: 0.9294\n",
       "F-statistic: 5933.7256 on 2 and 899 DF,  p-value: 0.000\n"
      ]
     },
     "execution_count": 31,
     "metadata": {},
     "output_type": "execute_result"
    }
   ],
   "source": [
    "def runDiff = new double[1];\n",
    "runDiff[0] = 135;\n",
    "def expectedWins = winsModel.predict(runDiff);\n",
    "runsScored2 = LeastSquares.train(moneyball.nCol(\"RS\"), moneyball.nCol(\"OBP\"), moneyball.nCol(\"SLG\"));"
   ]
  },
  {
   "cell_type": "code",
   "execution_count": 32,
   "metadata": {
    "collapsed": true
   },
   "outputs": [],
   "source": [
    "new Histogram(xLabel:\"X\",\n",
    "              yLabel:\"Proportion\",\n",
    "              data: Arrays.asList(runsScored2.residuals()), \n",
    "              binCount: 25);"
   ]
  }
 ],
 "metadata": {
  "anaconda-cloud": {},
  "kernelspec": {
   "display_name": "Groovy",
   "language": "groovy",
   "name": "groovy"
  },
  "language_info": {
   "codemirror_mode": "groovy",
   "file_extension": ".groovy",
   "mimetype": "",
   "name": "Groovy",
   "nbconverter_exporter": "",
   "version": "2.4.3"
  }
 },
 "nbformat": 4,
 "nbformat_minor": 2
}
