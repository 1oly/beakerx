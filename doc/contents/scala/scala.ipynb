{
 "cells": [
  {
   "cell_type": "markdown",
   "metadata": {},
   "source": [
    "# Scala\n",
    "\n",
    "[Scala](https://www.scala-lang.org/) combines the functional and object-oriented paradigms in a strongly-typed language, and is also meant to be an improved version of Java.  Scala is the native language of [Apache Spark](https://spark.apache.org/).\n",
    "\n",
    "BeakerX's Scala kernel supports connecting to and using a Spark cluster.  However, it does not (yet) have an integrated UI for the cluster, or parallel job control.\n",
    "\n",
    "See also Scala APIs for [EasyForm](EasyFormScalaDemos.ipynb), [Tables](tableApiScala.ipynb), [Plotting](plotScalaDemo.ipynb).\n"
   ]
  },
  {
   "cell_type": "code",
   "execution_count": 1,
   "metadata": {},
   "outputs": [
    {
     "data": {
      "text/plain": [
       "defined class Greeter\n"
      ]
     },
     "execution_count": 1,
     "metadata": {},
     "output_type": "execute_result"
    }
   ],
   "source": [
    "class Greeter(prefix: String, suffix: String) {\n",
    "  def greet(name: String): Unit =\n",
    "    println(prefix + name + suffix)\n",
    "}"
   ]
  },
  {
   "cell_type": "code",
   "execution_count": 2,
   "metadata": {},
   "outputs": [
    {
     "name": "stdout",
     "output_type": "stream",
     "text": [
      "Hello, Scala developer!\n"
     ]
    },
    {
     "data": {
      "text/plain": [
       "null"
      ]
     },
     "execution_count": 2,
     "metadata": {},
     "output_type": "execute_result"
    }
   ],
   "source": [
    "val greeter = new Greeter(\"Hello, \", \"!\")\n",
    "greeter.greet(\"Scala developer\") // Hello, Scala developer!"
   ]
  },
  {
   "cell_type": "code",
   "execution_count": 3,
   "metadata": {
    "collapsed": true
   },
   "outputs": [],
   "source": [
    "new Plot()"
   ]
  }
 ],
 "metadata": {
  "beakerx_kernel_parameters": {},
  "kernelspec": {
   "display_name": "Scala",
   "language": "scala",
   "name": "scala"
  },
  "language_info": {
   "codemirror_mode": "text/x-scala",
   "file_extension": ".scala",
   "mimetype": "",
   "name": "Scala",
   "nbconverter_exporter": "",
   "version": "2.11.11"
  }
 },
 "nbformat": 4,
 "nbformat_minor": 1
}
